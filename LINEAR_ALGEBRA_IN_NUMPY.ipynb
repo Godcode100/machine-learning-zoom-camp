{
  "nbformat": 4,
  "nbformat_minor": 0,
  "metadata": {
    "colab": {
      "provenance": [],
      "authorship_tag": "ABX9TyOzXUL3/8RqQHvCfLACE1kn"
    },
    "kernelspec": {
      "name": "python3",
      "display_name": "Python 3"
    },
    "language_info": {
      "name": "python"
    }
  },
  "cells": [
    {
      "cell_type": "markdown",
      "source": [
        "\n",
        "\n",
        "**INTRODUCTION**\n",
        "\n"
      ],
      "metadata": {
        "id": "S5712ChnOA6n"
      }
    },
    {
      "cell_type": "markdown",
      "source": [
        "Here we are going to see how we apply linear algebra in Numpy\n",
        "\n",
        "Important to Note is that in we can do the following multiplication operations:\n",
        "\n",
        "1.   Vector- vector Multiplication\n",
        "2.   Matrix - vector Multiplication\n",
        "3.   Matrix - vector Multiplication\n",
        "\n",
        "\n",
        "In linear Algebra, we have column vectors and to get a row vector we use a transpose which gives us a transpose of the column vector to get a row vector\n",
        "\n",
        "A vector- vector multiplication gives us a single number\n",
        "\n",
        "\n",
        "\n",
        "\n",
        "\n",
        "\n",
        "\n",
        "\n",
        "\n"
      ],
      "metadata": {
        "id": "1d0NjpdPOamk"
      }
    },
    {
      "cell_type": "markdown",
      "source": [],
      "metadata": {
        "id": "DSujasktQEk8"
      }
    },
    {
      "cell_type": "code",
      "execution_count": 1,
      "metadata": {
        "id": "Bh9cryD_N_Bo"
      },
      "outputs": [],
      "source": [
        "#we begin off by importing numpy as np\n",
        "import numpy as np"
      ]
    },
    {
      "cell_type": "code",
      "source": [
        "#we then create two numpy arrays which are row vectors on which we shall carryout our linear algebra operations\n",
        "#the shape property is used to get the shape of an array\n",
        "u = np.array([1,0,0,2])\n",
        "v = np.array([2,4,5,6])\n",
        "u.shape\n",
        "v.shape\n",
        "\n"
      ],
      "metadata": {
        "id": "RXWylXiuQvBl"
      },
      "execution_count": 11,
      "outputs": []
    },
    {
      "cell_type": "code",
      "source": [
        "#u.shape gives us a tuple and to get the first element of this tuple we shall use u.shape[0]\n",
        "u.shape\n",
        "#u.shape[0]"
      ],
      "metadata": {
        "colab": {
          "base_uri": "https://localhost:8080/"
        },
        "id": "rv2BnJUEVVzb",
        "outputId": "36495a0c-3f95-4e5a-cc47-386b0684a914"
      },
      "execution_count": 15,
      "outputs": [
        {
          "output_type": "execute_result",
          "data": {
            "text/plain": [
              "(4,)"
            ]
          },
          "metadata": {},
          "execution_count": 15
        }
      ]
    },
    {
      "cell_type": "code",
      "source": [
        "#v.shape gives us a tuple and to get the first element of this tuple we shall use v.shape[0]\n",
        "#v.shape\n",
        "v.shape[0]"
      ],
      "metadata": {
        "colab": {
          "base_uri": "https://localhost:8080/"
        },
        "id": "i1qN4X8rV0fw",
        "outputId": "c8f99fce-8819-479d-e212-99b328fcd003"
      },
      "execution_count": 16,
      "outputs": [
        {
          "output_type": "execute_result",
          "data": {
            "text/plain": [
              "4"
            ]
          },
          "metadata": {},
          "execution_count": 16
        }
      ]
    },
    {
      "cell_type": "markdown",
      "source": [
        "**MULTIPLICATION**"
      ],
      "metadata": {
        "id": "CLpG-gdPUtn8"
      }
    },
    {
      "cell_type": "code",
      "source": [
        "def vector_vector_multiplication(u,v):\n",
        "  assert u.shape[0] == v.shape[0]\n",
        "\n",
        "  n = u.shape[0] #the  number of elements in each array since they are equal\n",
        "  result = 0.0 # this contains our dot product\n",
        "  #Remember numpy arrays are indexed from 0 to n-1\n",
        "  for i in range (n):\n",
        "    result = result + u[i] * v[i]\n",
        "\n",
        "  return result"
      ],
      "metadata": {
        "id": "spAtFsQTU4xt"
      },
      "execution_count": 19,
      "outputs": []
    },
    {
      "cell_type": "code",
      "source": [
        "vector_vector_multiplication(u,v)"
      ],
      "metadata": {
        "colab": {
          "base_uri": "https://localhost:8080/"
        },
        "id": "qFWavgbaX7bz",
        "outputId": "8ff0d9c7-5d1d-4c52-b162-9556f894e20d"
      },
      "execution_count": 20,
      "outputs": [
        {
          "output_type": "execute_result",
          "data": {
            "text/plain": [
              "14.0"
            ]
          },
          "metadata": {},
          "execution_count": 20
        }
      ]
    },
    {
      "cell_type": "code",
      "source": [
        "#So above we were implementing a linear algebra multiplication but numpy has a function that can do this\n",
        "u.dot(v)"
      ],
      "metadata": {
        "colab": {
          "base_uri": "https://localhost:8080/"
        },
        "id": "WueGKBhpYbR8",
        "outputId": "9d5c328f-cff9-49d6-9efb-95184c4a827e"
      },
      "execution_count": 21,
      "outputs": [
        {
          "output_type": "execute_result",
          "data": {
            "text/plain": [
              "14"
            ]
          },
          "metadata": {},
          "execution_count": 21
        }
      ]
    },
    {
      "cell_type": "markdown",
      "source": [
        "**MATRIX- VECTOR MULTIPLICATION**\n",
        "\n",
        "In Linear Algebra, each row of the matrix is multiplied by the column vector and in the end we should have a column vector\n",
        "Remember the shape of the row and the column vector should match\n",
        "\n",
        "So it is Row of Matrix * vector\n",
        "So lets implement this numpy"
      ],
      "metadata": {
        "id": "enso0Pm9ZNeE"
      }
    },
    {
      "cell_type": "code",
      "source": [
        "a = np.array([[2,4,5,6],\n",
        "             [1,2,1,2],\n",
        "             [3,1,2,1]])\n",
        "a"
      ],
      "metadata": {
        "colab": {
          "base_uri": "https://localhost:8080/"
        },
        "id": "OSIhqAM5ZyNW",
        "outputId": "1a287fc8-9398-41fc-e392-3ed6d2b2768f"
      },
      "execution_count": 24,
      "outputs": [
        {
          "output_type": "execute_result",
          "data": {
            "text/plain": [
              "array([[2, 4, 5, 6],\n",
              "       [1, 2, 1, 2],\n",
              "       [3, 1, 2, 1]])"
            ]
          },
          "metadata": {},
          "execution_count": 24
        }
      ]
    },
    {
      "cell_type": "code",
      "source": [
        "a.shape"
      ],
      "metadata": {
        "colab": {
          "base_uri": "https://localhost:8080/"
        },
        "id": "zEUxx2Xtba6e",
        "outputId": "9abcc402-6d94-4e2b-b2ce-0c744aa866e5"
      },
      "execution_count": 25,
      "outputs": [
        {
          "output_type": "execute_result",
          "data": {
            "text/plain": [
              "(3, 4)"
            ]
          },
          "metadata": {},
          "execution_count": 25
        }
      ]
    },
    {
      "cell_type": "code",
      "source": [
        "def matrix_vector_multiplication(a,v):\n",
        "  #the number of columns in the matrix should match number of elements in vector\n",
        "  assert a.shape[1] == v.shape[0]\n",
        "\n",
        "  num_rows = a.shape[0]\n",
        "  result = np.zeros(num_rows)# we initialize the dimension of resulting vector\n",
        "\n",
        "  for i in range(num_rows):\n",
        "    result[i] = vector_vector_multiplication(a[i],v)\n",
        "\n",
        "  return result"
      ],
      "metadata": {
        "id": "O9wK3SwDbozJ"
      },
      "execution_count": 27,
      "outputs": []
    },
    {
      "cell_type": "code",
      "source": [
        "matrix_vector_multiplication(a,v)"
      ],
      "metadata": {
        "id": "3BY1ap3VizCF",
        "outputId": "11c89f13-63ae-4ef1-b45e-decfc5b68bbf",
        "colab": {
          "base_uri": "https://localhost:8080/"
        }
      },
      "execution_count": 32,
      "outputs": [
        {
          "output_type": "execute_result",
          "data": {
            "text/plain": [
              "array([81., 27., 26.])"
            ]
          },
          "metadata": {},
          "execution_count": 32
        }
      ]
    },
    {
      "cell_type": "code",
      "source": [
        "a.dot(v)"
      ],
      "metadata": {
        "id": "hwYJNK3yjgF_",
        "outputId": "080899c5-ab63-479e-caa0-31efe8a9eae5",
        "colab": {
          "base_uri": "https://localhost:8080/"
        }
      },
      "execution_count": 33,
      "outputs": [
        {
          "output_type": "execute_result",
          "data": {
            "text/plain": [
              "array([81, 27, 26])"
            ]
          },
          "metadata": {},
          "execution_count": 33
        }
      ]
    },
    {
      "cell_type": "markdown",
      "source": [
        "**MATRIX - MATRIX MULTIPLICATION**\n",
        "\n",
        "the result of a matrix matrix multiplication is a matrix.\n",
        "\n",
        "\n"
      ],
      "metadata": {
        "id": "UBF0Tup5kQru"
      }
    },
    {
      "cell_type": "code",
      "source": [
        "b = np.array([\n",
        "    [1,1,2],\n",
        "    [0,0.5,1],\n",
        "    [0,2,1],\n",
        "    [2,1,0],\n",
        "])\n",
        "b"
      ],
      "metadata": {
        "id": "59wYGTiGlaWD",
        "outputId": "06636f68-428f-441e-91c4-8d9cdae06572",
        "colab": {
          "base_uri": "https://localhost:8080/"
        }
      },
      "execution_count": 34,
      "outputs": [
        {
          "output_type": "execute_result",
          "data": {
            "text/plain": [
              "array([[1. , 1. , 2. ],\n",
              "       [0. , 0.5, 1. ],\n",
              "       [0. , 2. , 1. ],\n",
              "       [2. , 1. , 0. ]])"
            ]
          },
          "metadata": {},
          "execution_count": 34
        }
      ]
    },
    {
      "cell_type": "code",
      "source": [
        "def matrix_matrix_multiplication(a,b):\n",
        "  assert a.shape[1] == b.shape[0]\n",
        "\n",
        "  num_rows = a.shape[0]\n",
        "  num_cols = b.shape[1]\n",
        "\n",
        "  result = np.zeros((num_rows,num_cols))\n",
        "\n",
        "  for i in range(num_cols):\n",
        "    bi = b[:, i]# this points to a particular column in our second matrix b\n",
        "    abi = matrix_vector_multiplication(a, bi) #we multiply matrix a by the particular column and store the result in abi\n",
        "    result[:, i] = abi # then we assign the abi to a column in the result matrix that we had earlier filled with zeros\n",
        "\n",
        "\n",
        "  return result\n"
      ],
      "metadata": {
        "id": "dvw4hWwAl5QQ"
      },
      "execution_count": 35,
      "outputs": []
    },
    {
      "cell_type": "code",
      "source": [
        "matrix_matrix_multiplication(a,b)"
      ],
      "metadata": {
        "id": "_ya-XK9nriw5",
        "outputId": "c218695d-72ff-4e0a-dd8f-8833d5f29c4c",
        "colab": {
          "base_uri": "https://localhost:8080/"
        }
      },
      "execution_count": 36,
      "outputs": [
        {
          "output_type": "execute_result",
          "data": {
            "text/plain": [
              "array([[14. , 20. , 13. ],\n",
              "       [ 5. ,  6. ,  5. ],\n",
              "       [ 5. ,  8.5,  9. ]])"
            ]
          },
          "metadata": {},
          "execution_count": 36
        }
      ]
    },
    {
      "cell_type": "code",
      "source": [
        "#we can confirm this with the dot method in numpy\n",
        "a.dot(b)"
      ],
      "metadata": {
        "id": "gl4rfacjrwCj",
        "outputId": "7eaadac6-3178-4a84-844f-3a71ee28bdc4",
        "colab": {
          "base_uri": "https://localhost:8080/"
        }
      },
      "execution_count": 37,
      "outputs": [
        {
          "output_type": "execute_result",
          "data": {
            "text/plain": [
              "array([[14. , 20. , 13. ],\n",
              "       [ 5. ,  6. ,  5. ],\n",
              "       [ 5. ,  8.5,  9. ]])"
            ]
          },
          "metadata": {},
          "execution_count": 37
        }
      ]
    },
    {
      "cell_type": "markdown",
      "source": [
        "**IDENTITY MATRIX**\n",
        "Is a square matrix with 1s on the diagonals and zeros every where else\n",
        "\n",
        "If we multiply an a mtrix by an Identity matrix we get that particular matrix back"
      ],
      "metadata": {
        "id": "Em6J0HDksGkf"
      }
    },
    {
      "cell_type": "code",
      "source": [
        "#To create an Identity matrix in Numpy\n",
        "s =np.eye(4)\n",
        "s"
      ],
      "metadata": {
        "id": "Ms2ryZbGsz5_",
        "outputId": "3ef762e0-6706-424a-d1f1-b6cd6202d03e",
        "colab": {
          "base_uri": "https://localhost:8080/"
        }
      },
      "execution_count": 39,
      "outputs": [
        {
          "output_type": "execute_result",
          "data": {
            "text/plain": [
              "array([[1., 0., 0., 0.],\n",
              "       [0., 1., 0., 0.],\n",
              "       [0., 0., 1., 0.],\n",
              "       [0., 0., 0., 1.]])"
            ]
          },
          "metadata": {},
          "execution_count": 39
        }
      ]
    },
    {
      "cell_type": "code",
      "source": [
        "a"
      ],
      "metadata": {
        "id": "eqqiYMHttU6t",
        "outputId": "08dc217c-5e4f-47f4-d090-fa2cd5d76100",
        "colab": {
          "base_uri": "https://localhost:8080/"
        }
      },
      "execution_count": 40,
      "outputs": [
        {
          "output_type": "execute_result",
          "data": {
            "text/plain": [
              "array([[2, 4, 5, 6],\n",
              "       [1, 2, 1, 2],\n",
              "       [3, 1, 2, 1]])"
            ]
          },
          "metadata": {},
          "execution_count": 40
        }
      ]
    },
    {
      "cell_type": "code",
      "source": [
        "a.dot(s)"
      ],
      "metadata": {
        "id": "QQHKiCO-tZkj",
        "outputId": "e9e89f10-45cd-4129-bf77-96a8d917f4be",
        "colab": {
          "base_uri": "https://localhost:8080/"
        }
      },
      "execution_count": 41,
      "outputs": [
        {
          "output_type": "execute_result",
          "data": {
            "text/plain": [
              "array([[2., 4., 5., 6.],\n",
              "       [1., 2., 1., 2.],\n",
              "       [3., 1., 2., 1.]])"
            ]
          },
          "metadata": {},
          "execution_count": 41
        }
      ]
    },
    {
      "cell_type": "markdown",
      "source": [
        "**MATRIX INVERSE**\n",
        "The inverse of a matrix is such that when we multiply it by the matrix we get an Identity matrix\n",
        "\n",
        "Note: Only square matrices have inverse\n"
      ],
      "metadata": {
        "id": "0qdO68-at1m6"
      }
    },
    {
      "cell_type": "code",
      "source": [
        "# we turn into a square matrix by removing the last column\n",
        "a_square = a[:,[0,1,2]]\n",
        "a_square"
      ],
      "metadata": {
        "id": "c75rSfVSujyE",
        "outputId": "1d934b50-bbd2-419c-a55e-cf955455eed0",
        "colab": {
          "base_uri": "https://localhost:8080/"
        }
      },
      "execution_count": 73,
      "outputs": [
        {
          "output_type": "execute_result",
          "data": {
            "text/plain": [
              "array([[2, 4, 5],\n",
              "       [1, 2, 1],\n",
              "       [3, 1, 2]])"
            ]
          },
          "metadata": {},
          "execution_count": 73
        }
      ]
    },
    {
      "cell_type": "code",
      "source": [
        "a_square_inv = np.linalg.inv(a_square)\n",
        "a_square_inv"
      ],
      "metadata": {
        "id": "VOi7LzEq4aSy",
        "outputId": "1725e364-2776-4054-de6f-8b7d760cfcd0",
        "colab": {
          "base_uri": "https://localhost:8080/"
        }
      },
      "execution_count": 77,
      "outputs": [
        {
          "output_type": "execute_result",
          "data": {
            "text/plain": [
              "array([[2., 4., 5.],\n",
              "       [1., 2., 1.],\n",
              "       [3., 1., 2.]])"
            ]
          },
          "metadata": {},
          "execution_count": 77
        }
      ]
    },
    {
      "cell_type": "code",
      "source": [
        "a_square_inv.dot(a_square)"
      ],
      "metadata": {
        "id": "neke_dc65G0E",
        "outputId": "ec866f45-90ff-4e32-d814-db14a8de9ff1",
        "colab": {
          "base_uri": "https://localhost:8080/"
        }
      },
      "execution_count": 80,
      "outputs": [
        {
          "output_type": "execute_result",
          "data": {
            "text/plain": [
              "array([[ 1.00000000e+00, -5.55111512e-16, -4.44089210e-17],\n",
              "       [ 0.00000000e+00,  1.00000000e+00, -1.11022302e-17],\n",
              "       [ 0.00000000e+00,  0.00000000e+00,  1.00000000e+00]])"
            ]
          },
          "metadata": {},
          "execution_count": 80
        }
      ]
    }
  ]
}